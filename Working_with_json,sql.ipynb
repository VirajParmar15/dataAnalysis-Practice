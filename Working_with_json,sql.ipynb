{
  "nbformat": 4,
  "nbformat_minor": 0,
  "metadata": {
    "colab": {
      "provenance": []
    },
    "kernelspec": {
      "name": "python3",
      "display_name": "Python 3"
    },
    "language_info": {
      "name": "python"
    }
  },
  "cells": [
    {
      "cell_type": "markdown",
      "source": [
        "#working with json"
      ],
      "metadata": {
        "id": "lBi6XhfHCPM6"
      }
    },
    {
      "cell_type": "code",
      "execution_count": null,
      "metadata": {
        "id": "TErlD8-B_xaH"
      },
      "outputs": [],
      "source": [
        "#import pandas as pd"
      ]
    },
    {
      "cell_type": "code",
      "source": [
        "#pd.read_json(\"/content/drive/MyDrive/DATASETS/train.json\")\n",
        "#pd.read_json(\"you can pass url also\")"
      ],
      "metadata": {
        "id": "uxTuUEpV_6QV"
      },
      "execution_count": null,
      "outputs": []
    },
    {
      "cell_type": "markdown",
      "source": [
        "#working with sql"
      ],
      "metadata": {
        "id": "tfgaguR0CU3G"
      }
    },
    {
      "cell_type": "code",
      "source": [
        "#!pip install mysql.connector"
      ],
      "metadata": {
        "id": "mLOPZZXmCYeQ"
      },
      "execution_count": null,
      "outputs": []
    },
    {
      "cell_type": "code",
      "source": [
        "#import mysql.connector"
      ],
      "metadata": {
        "id": "VjjrJ-VSFfIi"
      },
      "execution_count": null,
      "outputs": []
    },
    {
      "cell_type": "code",
      "source": [
        "#conn = mysql.connector.connect(host='localhost',user='root',password='',database='world')"
      ],
      "metadata": {
        "id": "on9NxGZPFjD1"
      },
      "execution_count": null,
      "outputs": []
    },
    {
      "cell_type": "code",
      "source": [
        "#pd.read_sql_query(\"SELECT * FROM city\",conn)\n",
        "#pd.read_sql_query(\"SELECT * FROM city WHERE Countrycode LIKE 'USA'\",conn)\n",
        "#pd.read_sql_query(\"SELECT * FROM country WHERE LifeExpectancy > 60\",conn)"
      ],
      "metadata": {
        "id": "dqFqoAWOF3EJ"
      },
      "execution_count": null,
      "outputs": []
    }
  ]
}