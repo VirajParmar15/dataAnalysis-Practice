{
  "nbformat": 4,
  "nbformat_minor": 0,
  "metadata": {
    "colab": {
      "provenance": []
    },
    "kernelspec": {
      "name": "python3",
      "display_name": "Python 3"
    },
    "language_info": {
      "name": "python"
    }
  },
  "cells": [
    {
      "cell_type": "markdown",
      "source": [
        "1. importing pandas\n"
      ],
      "metadata": {
        "id": "SrA0UYdPmM9Z"
      }
    },
    {
      "cell_type": "code",
      "source": [
        "#import pandas as pd"
      ],
      "metadata": {
        "id": "qQSrGCBymSLc"
      },
      "execution_count": null,
      "outputs": []
    },
    {
      "cell_type": "markdown",
      "source": [
        "2. Opening a local csv file"
      ],
      "metadata": {
        "id": "HKaz9E1omXLQ"
      }
    },
    {
      "cell_type": "code",
      "source": [
        "#df = pd.read_csv(\"/content/drive/MyDrive/DATASETS/aug_train.csv\")\n",
        "#df"
      ],
      "metadata": {
        "id": "g_1tctv2mbk9"
      },
      "execution_count": null,
      "outputs": []
    },
    {
      "cell_type": "markdown",
      "source": [
        "3. Opening a csv file from an url"
      ],
      "metadata": {
        "id": "J4W79_oVov0b"
      }
    },
    {
      "cell_type": "code",
      "source": [
        "'''import requests\n",
        "from io import StringIO\n",
        "import base64\n",
        "from io import StringIO\n",
        "import pandas as pd\n",
        "\n",
        "url = \"https://www.kaggle.com/datasets/reddynitin/aug-train\"\n",
        "headers = {'Authorization': f'Basic {base64.b64encode(f\"virajparmar15:2164fd12bed698b1a50238599e2acae3\".encode()).decode()}'}\n",
        "req = requests.get(url, headers=headers)\n",
        "data = StringIO(req.text)\n",
        "#df = pd.read_csv(data)'''\n",
        "\n",
        "\n"
      ],
      "metadata": {
        "id": "LQValietQ22d"
      },
      "execution_count": null,
      "outputs": []
    },
    {
      "cell_type": "markdown",
      "source": [
        "4. Index_col parameter"
      ],
      "metadata": {
        "id": "ylnTwmb9sF8t"
      }
    },
    {
      "cell_type": "code",
      "source": [
        "#pd.read_csv('aug_train.csv',index_col='enrollee_id')"
      ],
      "metadata": {
        "id": "Iq1lBsPLo1G0"
      },
      "execution_count": null,
      "outputs": []
    },
    {
      "cell_type": "markdown",
      "source": [
        "5. sep parameter"
      ],
      "metadata": {
        "id": "6544ufnKk4kM"
      }
    },
    {
      "cell_type": "code",
      "source": [
        "#pd.read_csv('aug_train.csv',sep='\\t')\n"
      ],
      "metadata": {
        "id": "uvBnvvonlCNT"
      },
      "execution_count": null,
      "outputs": []
    },
    {
      "cell_type": "markdown",
      "source": [
        "6. header parameter\n"
      ],
      "metadata": {
        "id": "h4qRka1XlXG5"
      }
    },
    {
      "cell_type": "code",
      "source": [
        "#pd.read_csv('test.csv',header=1)"
      ],
      "metadata": {
        "id": "U0IEhaQylhv_"
      },
      "execution_count": null,
      "outputs": []
    },
    {
      "cell_type": "markdown",
      "source": [
        "7. use_cols parameter"
      ],
      "metadata": {
        "id": "HSFhUqTzlsUk"
      }
    },
    {
      "cell_type": "code",
      "source": [
        "#use specific columns in it\n",
        "#pd.read_csv(\"aug_train.csv\",usecols=['enrollee_id','gender','education_level'])"
      ],
      "metadata": {
        "id": "0fc2zq08lwAO"
      },
      "execution_count": null,
      "outputs": []
    },
    {
      "cell_type": "markdown",
      "source": [
        "8. Squeeze parameters"
      ],
      "metadata": {
        "id": "ml73LHb8mcno"
      }
    },
    {
      "cell_type": "code",
      "source": [
        "#pd.read_csv(\"aug_train.csv\",usecols=['gender'],squeeze=True)"
      ],
      "metadata": {
        "id": "uE-XmdnWmorU"
      },
      "execution_count": null,
      "outputs": []
    },
    {
      "cell_type": "markdown",
      "source": [
        "9. Skiprows/nrows parameter"
      ],
      "metadata": {
        "id": "bKxdlauem_cE"
      }
    },
    {
      "cell_type": "code",
      "source": [
        "#pd.read_csv(\"aug_train.csv\",skiprows=[0,5])\n",
        "#pd.read_csv(\"aud_train.csv\",nrows=100)"
      ],
      "metadata": {
        "id": "v032EZWSnE6E"
      },
      "execution_count": null,
      "outputs": []
    },
    {
      "cell_type": "markdown",
      "source": [
        "10. encoding parameter"
      ],
      "metadata": {
        "id": "hsFpbHt0nMuc"
      }
    },
    {
      "cell_type": "code",
      "source": [
        "#pd.read_csv('zomato.csv',encoding='latin-1')\n",
        "#while unicodedecodeerror occure"
      ],
      "metadata": {
        "id": "wlps8ncjoMzT"
      },
      "execution_count": null,
      "outputs": []
    },
    {
      "cell_type": "markdown",
      "source": [
        "11. skip bad lines"
      ],
      "metadata": {
        "id": "BjnnwTHxoYov"
      }
    },
    {
      "cell_type": "code",
      "source": [
        "#pd.read_csv(\"BK-Books.csv\",sep=\";\",encoding\"latin-1\",error_bad_lines=False)"
      ],
      "metadata": {
        "id": "ifD4qSxopsld"
      },
      "execution_count": null,
      "outputs": []
    },
    {
      "cell_type": "markdown",
      "source": [
        "12. dtypes parameter"
      ],
      "metadata": {
        "id": "GZ3bzEPxrN6D"
      }
    },
    {
      "cell_type": "code",
      "source": [
        "#pd.read_csv(\"aug_train.csv\",dtypes={'target':int})"
      ],
      "metadata": {
        "id": "oyIdi9OMrSsK"
      },
      "execution_count": null,
      "outputs": []
    },
    {
      "cell_type": "markdown",
      "source": [
        "13.handling dates"
      ],
      "metadata": {
        "id": "1eYspdmisZHl"
      }
    },
    {
      "cell_type": "code",
      "source": [
        "#pd.read_csv('IPL Matches 2008-2020.csv',parse_dates=['date'])"
      ],
      "metadata": {
        "id": "AWMVZ8d-sa8m"
      },
      "execution_count": null,
      "outputs": []
    },
    {
      "cell_type": "markdown",
      "source": [
        "14. Converters"
      ],
      "metadata": {
        "id": "XJlfG3RwthNk"
      }
    },
    {
      "cell_type": "code",
      "source": [
        "'''def rename(name):\n",
        "  if name == \"Royal challengers banglore\":\n",
        "    return \"RCB\"\n",
        "  else:\n",
        "    return name'''\n"
      ],
      "metadata": {
        "id": "HOsX3FW9tpQ0"
      },
      "execution_count": null,
      "outputs": []
    },
    {
      "cell_type": "code",
      "source": [
        "#rename(\"Royal challengers banglore\")"
      ],
      "metadata": {
        "id": "P-E9mXLuvGxw"
      },
      "execution_count": null,
      "outputs": []
    },
    {
      "cell_type": "code",
      "source": [
        "#pd.read_csv(\"IPL Matches 2008-2020.csv\",converters={'team1':rename})"
      ],
      "metadata": {
        "id": "SJk7E7qxtkii"
      },
      "execution_count": null,
      "outputs": []
    },
    {
      "cell_type": "markdown",
      "source": [
        "15. na_values parameter"
      ],
      "metadata": {
        "id": "IWODvqqCvfr2"
      }
    },
    {
      "cell_type": "code",
      "source": [
        "#pd.read_csv(\"aug_train.csv\",na_values=['Male',])"
      ],
      "metadata": {
        "id": "G2k1-BYSvkzd"
      },
      "execution_count": null,
      "outputs": []
    },
    {
      "cell_type": "markdown",
      "source": [
        "16. loading a huge dataset in chunks"
      ],
      "metadata": {
        "id": "jlk2JmJawj8b"
      }
    },
    {
      "cell_type": "code",
      "source": [
        "#pd.read_csv(\"aug_train.csv\",chunksize=5000)"
      ],
      "metadata": {
        "id": "IAsQwT4Dw70X"
      },
      "execution_count": null,
      "outputs": []
    },
    {
      "cell_type": "code",
      "source": [
        "'''\n",
        "for chunks in dfs:\n",
        "  print(chunk.shape)\n",
        "'''\n",
        "#do task on whole chunk"
      ],
      "metadata": {
        "id": "Cn4jLqpkw9js"
      },
      "execution_count": null,
      "outputs": []
    }
  ]
}